{
 "cells": [
  {
   "cell_type": "code",
   "execution_count": 10,
   "metadata": {
    "collapsed": true
   },
   "outputs": [],
   "source": [
    "import requests\n",
    "from bs4 import BeautifulSoup as Soup"
   ]
  },
  {
   "cell_type": "code",
   "execution_count": 55,
   "metadata": {
    "collapsed": true
   },
   "outputs": [],
   "source": [
    "LINES={\"MERCHANDISE MART\": \"40460\",\"SOUTHPORT\": \"40360\"}\n",
    "base=\"http://www.transitchicago.com/traintracker/arrivaltimes.aspx?sid=\""
   ]
  },
  {
   "cell_type": "code",
   "execution_count": 63,
   "metadata": {
    "collapsed": false
   },
   "outputs": [
    {
     "data": {
      "text/plain": [
       "'Kimball Due\\nKimball 12 min\\nLoop 12 min\\ntrain 20 min\\n'"
      ]
     },
     "execution_count": 63,
     "metadata": {},
     "output_type": "execute_result"
    }
   ],
   "source": [
    "def requestTrainSchedule(line):\n",
    "    line=line.upper()\n",
    "    soup=Soup(requests.get(base+LINES[line]).text,\"html.parser\")\n",
    "    return parseTrainHTML(soup)\n",
    "requestTrainSchedule(\"Merchandise Mart\")"
   ]
  },
  {
   "cell_type": "code",
   "execution_count": 60,
   "metadata": {
    "collapsed": false
   },
   "outputs": [
    {
     "data": {
      "text/plain": [
       "'Kimball 4 min\\nKimball 14 min\\nLoop 2 min\\nLoop 11 min\\n'"
      ]
     },
     "execution_count": 60,
     "metadata": {},
     "output_type": "execute_result"
    }
   ],
   "source": [
    "def parseTrainHTML(soup):\n",
    "    tracker_div=soup.find(\"div\",{\"id\":\"ctl06_upTrainTracker\"})\n",
    "    train_divs=tracker_div.find_all(\"div\",{\"class\": \"ttar_arrivalbar_brown\"})\n",
    "    response_str=\"\"\n",
    "    for train_div in train_divs:\n",
    "        dest=train_div.find(\"span\",\"ttar_traindest\").text.split(\" \")[-1]\n",
    "        estimated_arrival=train_div.find(\"div\",\"ttar_trainpred\").text.split(\"\\n\")[-1]\n",
    "        response_str+=dest+\" \"+estimated_arrival+\"\\n\"\n",
    "    return response_str\n",
    "parseTrainHTML(soup)"
   ]
  },
  {
   "cell_type": "code",
   "execution_count": null,
   "metadata": {
    "collapsed": true
   },
   "outputs": [],
   "source": []
  }
 ],
 "metadata": {
  "kernelspec": {
   "display_name": "Python [py3]",
   "language": "python",
   "name": "Python [py3]"
  },
  "language_info": {
   "codemirror_mode": {
    "name": "ipython",
    "version": 3
   },
   "file_extension": ".py",
   "mimetype": "text/x-python",
   "name": "python",
   "nbconvert_exporter": "python",
   "pygments_lexer": "ipython3",
   "version": "3.5.2"
  }
 },
 "nbformat": 4,
 "nbformat_minor": 0
}
